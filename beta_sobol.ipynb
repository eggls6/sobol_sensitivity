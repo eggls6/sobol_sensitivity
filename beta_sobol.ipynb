{
 "cells": [
  {
   "cell_type": "markdown",
   "id": "454f5046",
   "metadata": {},
   "source": [
    "# Variance-based sensitivity analysis\n",
    "\n",
    "S. Eggl"
   ]
  },
  {
   "cell_type": "markdown",
   "id": "efb6c6d3",
   "metadata": {},
   "source": [
    "[Variance-based sensitivity analysis](https://en.wikipedia.org/wiki/Variance-based_sensitivity_analysis) decomposes the variance of a model output into fractions that can be attributed to model inputs.\n",
    "Here we use [SALib](https://salib.readthedocs.io/en/latest/) a sensitivity analysis package to explore which parameters matter most for the impact. Here, we will explore the sensitivity of the momentum enhancehment factor beta to various parameters related to [DART](https://dart.jhuapl.edu/). "
   ]
  },
  {
   "cell_type": "code",
   "execution_count": 1,
   "id": "e95b7812",
   "metadata": {},
   "outputs": [],
   "source": [
    "import numpy as np\n",
    "import matplotlib.pyplot as plt"
   ]
  },
  {
   "cell_type": "code",
   "execution_count": 2,
   "id": "6b201731",
   "metadata": {},
   "outputs": [],
   "source": [
    "import warnings\n",
    "warnings.simplefilter(action='ignore', category=FutureWarning)"
   ]
  },
  {
   "cell_type": "code",
   "execution_count": 3,
   "id": "34b4f6c6",
   "metadata": {},
   "outputs": [],
   "source": [
    "from SALib.sample import saltelli\n",
    "from SALib.analyze import sobol\n",
    "from SALib.test_functions import Ishigami"
   ]
  },
  {
   "cell_type": "code",
   "execution_count": 4,
   "id": "2a03261d",
   "metadata": {},
   "outputs": [],
   "source": [
    "def beta(msc,me,Vinf,Ve,eta,eps):\n",
    "    \"\"\"Momentum enhancement factor beta according to DART Beta Memo (2020).\n",
    "    \n",
    "    Parameters:\n",
    "    -----------\n",
    "    msc    ... [float, kg] mass of DART spacecraft (dry + fuel remnants)\n",
    "    me     ... [float, kg] total mass of ejecta\n",
    "    Vinf   ... [float, m/s] incoming relative velocity of DART wrt Dimorphos\n",
    "    Ve     ... [float, m/s] norm of the sum of all ejecta velocity vectors \n",
    "    eta    ... [float, rad] angle between Vinf and surface normal (around 180 deg)\n",
    "    eps    ... [floa,rad] angle between Ve and surface normal (around 0 deg)\n",
    "    \n",
    "    Returns:\n",
    "    --------\n",
    "    beta  ... momentum enhancement factor: beta = (msc Vinf.nhat - me Ve.nhat)/(msc Vinf.nhat)\n",
    "    \"\"\"\n",
    "    cos=np.cos\n",
    "    \n",
    "    imp = msc*Vinf*cos(eta)\n",
    "    \n",
    "    bet = 1 - me*Ve*cos(eps)/imp\n",
    "    \n",
    "    return bet\n",
    "    "
   ]
  },
  {
   "cell_type": "code",
   "execution_count": 5,
   "id": "728b6dce",
   "metadata": {},
   "outputs": [
    {
     "data": {
      "text/plain": [
       "2.0"
      ]
     },
     "execution_count": 5,
     "metadata": {},
     "output_type": "execute_result"
    }
   ],
   "source": [
    "beta(600,6000,6000,600,np.pi,0)"
   ]
  },
  {
   "cell_type": "code",
   "execution_count": 10,
   "id": "a0fdbfb0",
   "metadata": {},
   "outputs": [
    {
     "name": "stdout",
     "output_type": "stream",
     "text": [
      "Number of samples: 65536\n",
      "Parameter S1 S1_conf ST ST_conf\n",
      "msc 0.000104 0.000447 0.010483 0.012163\n",
      "mejecta 0.000176 0.000298 0.189274 0.482265\n",
      "Vinf 0.000000 0.000010 0.000133 0.000190\n",
      "Vejecta -0.000542 0.002893 0.268465 0.358728\n",
      "eta 0.434681 0.357195 0.607377 0.563315\n",
      "eps -0.000078 0.000348 0.001537 0.003807\n",
      "\n",
      "Parameter_1 Parameter_2 S2 S2_conf\n",
      "msc mejecta -0.000195 0.000854\n",
      "msc Vinf -0.000195 0.000845\n",
      "msc Vejecta -0.000139 0.000604\n",
      "msc eta -0.005644 0.051866\n",
      "msc eps -0.000187 0.000814\n",
      "mejecta Vinf -0.000053 0.000341\n",
      "mejecta Vejecta 0.000023 0.000322\n",
      "mejecta eta 0.059633 0.317820\n",
      "mejecta eps -0.000049 0.000334\n",
      "Vinf Vejecta -0.000000 0.000014\n",
      "Vinf eta -0.001485 0.004488\n",
      "Vinf eps -0.000002 0.000019\n",
      "Vejecta eta -0.094340 0.278020\n",
      "Vejecta eps 0.002385 0.009694\n",
      "eta eps -0.172222 0.544638\n"
     ]
    }
   ],
   "source": [
    "# Define the model inputs and ranges for quasi random sampling\n",
    "problem = {\n",
    "    'num_vars': 6,\n",
    "    'names': ['msc','mejecta','Vinf','Vejecta','eta','eps'],\n",
    "    'bounds': [[500, 650],\n",
    "               [0, 6000],\n",
    "               [5900, 6100],\n",
    "               [0,600],\n",
    "               [np.pi/2,3*np.pi/2],\n",
    "               [-np.pi/4,np.pi/4]]\n",
    "}\n",
    "# Number of samples (must be power of 2)\n",
    "n_samples=2**16\n",
    "print('Number of samples:',n_samples)\n",
    "\n",
    "# Generate samples\n",
    "param_values = saltelli.sample(problem, n_samples)\n",
    "\n",
    "# Run model (example)\n",
    "Y = beta(param_values[:,0],param_values[:,1],param_values[:,2],param_values[:,3],param_values[:,4],param_values[:,5])\n",
    "\n",
    "# Perform analysis\n",
    "Si = sobol.analyze(problem, Y, print_to_console=True)"
   ]
  },
  {
   "cell_type": "markdown",
   "id": "3218d5b7",
   "metadata": {},
   "source": [
    "### Print and plot the first-order sensitivity indices"
   ]
  },
  {
   "cell_type": "code",
   "execution_count": 11,
   "id": "24775fd7",
   "metadata": {},
   "outputs": [
    {
     "name": "stdout",
     "output_type": "stream",
     "text": [
      "[ 1.04047330e-04  1.76262111e-04  2.64367027e-07 -5.41984849e-04\n",
      "  4.34681323e-01 -7.82852773e-05]\n"
     ]
    }
   ],
   "source": [
    "print(Si['S1'])"
   ]
  },
  {
   "cell_type": "code",
   "execution_count": 12,
   "id": "7eddddff",
   "metadata": {},
   "outputs": [
    {
     "data": {
      "image/png": "[encoded data removed]",
      "text/plain": [
       "<Figure size 576x576 with 1 Axes>"
      ]
     },
     "metadata": {
      "needs_background": "light"
     },
     "output_type": "display_data"
    }
   ],
   "source": [
    "plt.figure(figsize=(8, 8))\n",
    "dartblue='#3c7dcd'\n",
    "\n",
    "x = problem['names']\n",
    "sobol_indices = Si['S1']\n",
    "\n",
    "x_pos = [i for i, _ in enumerate(x)]\n",
    "\n",
    "plt.bar(x_pos, abs(sobol_indices), color=dartblue)\n",
    "\n",
    "plt.xticks(range(len(problem['names'])), problem['names'], fontsize=14, rotation=45)\n",
    "plt.ylabel(\"First order sensitivity indices\")\n",
    "plt.yscale('log', nonpositive='clip')\n",
    "plt.ylim(1e-5,1)\n",
    "\n",
    "plt.title(r'First-order Sensitivity Indices for $\\beta$')\n",
    "plt.show()"
   ]
  },
  {
   "cell_type": "markdown",
   "id": "1eddd4de",
   "metadata": {},
   "source": [
    "We see that the angle between surface normal and DART impact vector (eta) has the largest influence on beta, followed by the net ejecta momentum (mejecta*Vejecta)."
   ]
  },
  {
   "cell_type": "markdown",
   "id": "bb7f57f6",
   "metadata": {},
   "source": [
    "### We can look at the second-order indices to see higher-order interactions:"
   ]
  },
  {
   "cell_type": "code",
   "execution_count": 13,
   "id": "ba7acdb8",
   "metadata": {},
   "outputs": [
    {
     "data": {
      "image/png": "[encoded data removed]",
      "text/plain": [
       "<Figure size 576x576 with 2 Axes>"
      ]
     },
     "metadata": {
      "needs_background": "light"
     },
     "output_type": "display_data"
    }
   ],
   "source": [
    "f = plt.figure(figsize=(8, 8))\n",
    "plt.matshow(Si['S2'], fignum=f.number,cmap=plt.get_cmap('seismic'),vmin=-0.4, vmax=.41)\n",
    "cb = plt.colorbar()\n",
    "cb.ax.tick_params(labelsize=14)\n",
    "plt.xticks(range(len(problem['names'])), problem['names'], fontsize=14, rotation=45)\n",
    "plt.yticks(range(len(problem['names'])),problem['names'], fontsize=14)\n",
    "plt.title('Correlation Matrix', fontsize=16);"
   ]
  },
  {
   "cell_type": "markdown",
   "id": "6714e7a7",
   "metadata": {},
   "source": [
    "The correlation between the angles eta and eps wrt beta is clearly visible, although we did not explicitly use the surface normal vector nhat to calculate beta. The dominant quantities are again related to the magnitude of the ejecta momentum, and the angle between the impact vector of DART and the surface normal. "
   ]
  },
  {
   "cell_type": "code",
   "execution_count": null,
   "id": "12d4c8d4",
   "metadata": {},
   "outputs": [],
   "source": []
  }
 ],
 "metadata": {
  "kernelspec": {
   "display_name": "eggl",
   "language": "python",
   "name": "py36"
  },
  "language_info": {
   "codemirror_mode": {
    "name": "ipython",
    "version": 3
   },
   "file_extension": ".py",
   "mimetype": "text/x-python",
   "name": "python",
   "nbconvert_exporter": "python",
   "pygments_lexer": "ipython3",
   "version": "3.6.13"
  }
 },
 "nbformat": 4,
 "nbformat_minor": 5
}
